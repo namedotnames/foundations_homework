{
 "cells": [
  {
   "cell_type": "markdown",
   "metadata": {},
   "source": [
    "## Homework 3: Scraping Part One\n",
    "This homework asks you to scrape the dialogue from one act in Shakespeare, please follow the instructions and do the best you can. With the exception of the first cell that imports the request and the beautiful soup library, I have not pre-written any code for you. Do not be afraid--you may look at the tutorial for examples, as well as the Beautiful Soup documentation, and any other Python resource (such a Stack overflow) if need be. \n",
    "\n",
    "This homework is intended to be challenging, if you only get 70% of the stuff done that's great!"
   ]
  },
  {
   "cell_type": "code",
   "execution_count": 1,
   "metadata": {},
   "outputs": [],
   "source": [
    "import requests\n",
    "from bs4 import BeautifulSoup"
   ]
  },
  {
   "cell_type": "markdown",
   "metadata": {},
   "source": [
    "## Shakespeare \n",
    "I've posted some relatively simple HTML of the first act of William Shakespeare's The Tempest here: http://floatingmedia.com/columbia/tempest.html please use that URL to download the HTML and put it through Beautiful Soup. (It also may be very helpful for you to go to that page in chrome and inspect elements why you do this.) \n",
    "**Please note: there are 2 scenes in Act 1**\n",
    "\n"
   ]
  },
  {
   "cell_type": "markdown",
   "metadata": {},
   "source": [
    "In the cells below you should you make two lines--a variable that requests and reads the HTML from the URL (http://floatingmedia.com/columbia/tempest.html), and a second variable that passes the raw HTML into Beautiful Soup. You will use that beautiful soup variable to search the HTML."
   ]
  },
  {
   "cell_type": "code",
   "execution_count": 2,
   "metadata": {},
   "outputs": [],
   "source": [
    "import requests\n",
    "page = requests.get('http://floatingmedia.com/columbia/tempest.html')\n",
    "tempest = BeautifulSoup(page.content, 'html.parser')"
   ]
  },
  {
   "cell_type": "markdown",
   "metadata": {},
   "source": [
    "Get the title of the play:\n",
    "\n"
   ]
  },
  {
   "cell_type": "code",
   "execution_count": 109,
   "metadata": {},
   "outputs": [
    {
     "data": {
      "text/plain": [
       "<title>The Tempest</title>"
      ]
     },
     "execution_count": 109,
     "metadata": {},
     "output_type": "execute_result"
    }
   ],
   "source": [
    "#tempest.find('title')\n",
    "tempest.title"
   ]
  },
  {
   "cell_type": "markdown",
   "metadata": {},
   "source": [
    "Get the HTML that contains the setting of Act One Scene 1:"
   ]
  },
  {
   "cell_type": "code",
   "execution_count": 111,
   "metadata": {},
   "outputs": [
    {
     "data": {
      "text/plain": [
       "<strong>\n",
       "On a ship at sea</strong>"
      ]
     },
     "execution_count": 111,
     "metadata": {},
     "output_type": "execute_result"
    }
   ],
   "source": [
    "#tempest.find('strong')\n",
    "#tempest.find_all('p')[1].strong.string\n",
    "tempest.strong"
   ]
  },
  {
   "cell_type": "markdown",
   "metadata": {},
   "source": [
    "Get the setting of Act One Scene 1 (without HTML tags):"
   ]
  },
  {
   "cell_type": "code",
   "execution_count": 112,
   "metadata": {},
   "outputs": [
    {
     "data": {
      "text/plain": [
       "'\\nOn a ship at sea'"
      ]
     },
     "execution_count": 112,
     "metadata": {},
     "output_type": "execute_result"
    }
   ],
   "source": [
    "#tempest.find('strong').text\n",
    "tempest.strong.text"
   ]
  },
  {
   "cell_type": "markdown",
   "metadata": {},
   "source": [
    "Get the setting of scene 2"
   ]
  },
  {
   "cell_type": "code",
   "execution_count": 113,
   "metadata": {},
   "outputs": [
    {
     "data": {
      "text/plain": [
       "'The island. Before PROSPERO’S cell.'"
      ]
     },
     "execution_count": 113,
     "metadata": {},
     "output_type": "execute_result"
    }
   ],
   "source": [
    "#tempest.find_all('p', class_='stagedir')[11].text\n",
    "tempest.find_all('div')[2].strong.string"
   ]
  },
  {
   "cell_type": "markdown",
   "metadata": {},
   "source": [
    "Get the name of the first character in Scene 1"
   ]
  },
  {
   "cell_type": "code",
   "execution_count": 114,
   "metadata": {},
   "outputs": [
    {
     "data": {
      "text/plain": [
       "'Master. '"
      ]
     },
     "execution_count": 114,
     "metadata": {},
     "output_type": "execute_result"
    }
   ],
   "source": [
    "tempest.li.strong.string "
   ]
  },
  {
   "cell_type": "markdown",
   "metadata": {},
   "source": [
    "Get a list of all of characters in Scene 1 (repeats are fine, you need a loop here)"
   ]
  },
  {
   "cell_type": "code",
   "execution_count": 115,
   "metadata": {},
   "outputs": [
    {
     "data": {
      "text/plain": [
       "['Master. ',\n",
       " 'Boatswain. ',\n",
       " 'Master. ',\n",
       " 'Boatswain. ',\n",
       " 'Alonso. ',\n",
       " 'Boatswain. ',\n",
       " 'Antonio. ',\n",
       " 'Boatswain. ',\n",
       " 'Gonzalo. ',\n",
       " 'Boatswain. ',\n",
       " 'Gonzalo. ',\n",
       " 'Boatswain. ',\n",
       " 'Gonzalo. ',\n",
       " 'Boatswain. ',\n",
       " 'Sebastian. ',\n",
       " 'Boatswain. ',\n",
       " 'Antonio. ',\n",
       " 'Gonzalo. ',\n",
       " 'Boatswain. ',\n",
       " 'Mariners. ',\n",
       " 'Boatswain. ',\n",
       " 'Gonzalo. ',\n",
       " 'Sebastian. ',\n",
       " 'Antonio. ',\n",
       " 'Gonzalo. ',\n",
       " 'Antonio. ',\n",
       " 'Sebastian. ',\n",
       " 'Gonzalo. ']"
      ]
     },
     "execution_count": 115,
     "metadata": {},
     "output_type": "execute_result"
    }
   ],
   "source": [
    "characters = tempest.find_all('div')[1].find_all('strong')\n",
    "mylist = []\n",
    "for charName in characters:\n",
    "    mylist.append(charName.string)\n",
    "mylist"
   ]
  },
  {
   "cell_type": "markdown",
   "metadata": {},
   "source": [
    "**Bonus:** write a script that takes all the duplicates out of the list. (This is a python thing, not a beautiful soup thing.)"
   ]
  },
  {
   "cell_type": "code",
   "execution_count": 116,
   "metadata": {},
   "outputs": [
    {
     "data": {
      "text/plain": [
       "['Gonzalo. ',\n",
       " 'Boatswain. ',\n",
       " 'Master. ',\n",
       " 'Sebastian. ',\n",
       " 'Mariners. ',\n",
       " 'Alonso. ',\n",
       " 'Antonio. ']"
      ]
     },
     "execution_count": 116,
     "metadata": {},
     "output_type": "execute_result"
    }
   ],
   "source": [
    "noDups = list(set(mylist))\n",
    "noDups"
   ]
  },
  {
   "cell_type": "markdown",
   "metadata": {},
   "source": [
    "Display every stage direction in _scene 2_"
   ]
  },
  {
   "cell_type": "code",
   "execution_count": 122,
   "metadata": {},
   "outputs": [
    {
     "name": "stdout",
     "output_type": "stream",
     "text": [
      "[Enter PROSPERO and MIRANDA]\n",
      "[Lays down his mantle]\n",
      "[Resumes his mantle]\n",
      "[MIRANDA sleeps]\n",
      "[Enter ARIEL]\n",
      "[Exit ARIEL]\n",
      "[Within]\n",
      "[Re-enter ARIEL like a water-nymph]\n",
      "[Exit]\n",
      "[Enter CALIBAN]\n",
      "[Aside]\n",
      "[Exit CALIBAN]\n",
      "[Re-enter ARIEL, invisible, playing and singing;]\n",
      "FERDINAND following]\n",
      "None\n",
      "[dispersedly, within]\n",
      "[Burthen Bow-wow]\n",
      "[ARIEL sings]\n",
      "[Burthen Ding-dong]\n",
      "[Aside]\n",
      "[Aside]\n",
      "[To FERDINAND]\n",
      "[Aside]\n",
      "[To FERDINAND]\n",
      "[Draws, and is charmed from moving]\n",
      "[Aside]\n",
      "[To FERDINAND]\n",
      "[To FERDINAND]\n",
      "[To ARIEL]\n",
      "[Exeunt]\n"
     ]
    }
   ],
   "source": [
    "#tempest.find_all(class_= 'stagedir')\n",
    "scene2 = tempest.find_all('div')[3]\n",
    "staged = scene2.find_all(['p','i'])\n",
    "for direction in staged:\n",
    "    print(direction.string)"
   ]
  },
  {
   "cell_type": "markdown",
   "metadata": {},
   "source": [
    "Get the HTML containing Miranda's first speech in Scene 2"
   ]
  },
  {
   "cell_type": "code",
   "execution_count": 128,
   "metadata": {},
   "outputs": [
    {
     "data": {
      "text/plain": [
       "<li class=\"playtext\"><strong>Miranda. </strong>If by your art, my dearest father, you have\n",
       " <span class=\"playlinenum\">85</span><br/>Put the wild waters in this roar, allay them.\n",
       "<br/>The sky, it seems, would pour down stinking pitch,\n",
       "<br/>But that the sea, mounting to the welkin's cheek,\n",
       "<br/>Dashes the fire out. O, I have suffered\n",
       "<br/>With those that I saw suffer: a brave vessel,\n",
       " <span class=\"playlinenum\">90</span><br/>Who had, no doubt, some noble creature in her,\n",
       "<br/>Dash'd all to pieces. O, the cry did knock\n",
       "<br/>Against my very heart. Poor souls, they perish'd.\n",
       "<br/>Had I been any god of power, I would\n",
       "<br/>Have sunk the sea within the earth or ere\n",
       " <span class=\"playlinenum\">95</span><br/>It should the good ship so have swallow'd and\n",
       "<br/>The fraughting souls within her.\n",
       "</li>"
      ]
     },
     "execution_count": 128,
     "metadata": {},
     "output_type": "execute_result"
    }
   ],
   "source": [
    "#tempest.find_all(\"div\")[3].li\n",
    "scene2 = tempest.find_all(\"div\")[3]\n",
    "scene2.li"
   ]
  },
  {
   "cell_type": "markdown",
   "metadata": {},
   "source": [
    "Now display those **same lines without the speaker's name, and no HTML.**\n",
    "\n",
    "This is a bit tricky, try to get as close to this result as you can. (Note: I didn't get the numbers out of there, but it's fine if you want to get them out too):\n",
    "\n",
    "`If by your art, my dearest father, you have\n",
    " \n",
    "85\n",
    "Put the wild waters in this roar, allay them.\n",
    "\n",
    "The sky, it seems, would pour down stinking pitch,\n",
    "\n",
    "But that the sea, mounting to the welkin's cheek,\n",
    "\n",
    "Dashes the fire out. O, I have suffered\n",
    "\n",
    "With those that I saw suffer: a brave vessel,\n",
    " \n",
    "90\n",
    "Who had, no doubt, some noble creature in her,\n",
    "\n",
    "Dash'd all to pieces. O, the cry did knock\n",
    "\n",
    "Against my very heart. Poor souls, they perish'd.\n",
    "\n",
    "Had I been any god of power, I would\n",
    "\n",
    "Have sunk the sea within the earth or ere\n",
    " \n",
    "95\n",
    "It should the good ship so have swallow'd and\n",
    "\n",
    "The fraughting souls within her.`"
   ]
  },
  {
   "cell_type": "code",
   "execution_count": 135,
   "metadata": {},
   "outputs": [
    {
     "data": {
      "text/plain": [
       "<bound method PageElement.find_next_sibling of <strong>Miranda. </strong>>"
      ]
     },
     "execution_count": 135,
     "metadata": {},
     "output_type": "execute_result"
    }
   ],
   "source": [
    "myspeech = scene2.li\n",
    "#myspeech.strong.find_next_sibling"
   ]
  },
  {
   "cell_type": "markdown",
   "metadata": {},
   "source": [
    "Get the HTML containing the speech after Miranda's"
   ]
  },
  {
   "cell_type": "code",
   "execution_count": 132,
   "metadata": {},
   "outputs": [
    {
     "data": {
      "text/plain": [
       "[<span class=\"playlinenum\">85</span>,\n",
       " <br/>,\n",
       " <br/>,\n",
       " <br/>,\n",
       " <br/>,\n",
       " <br/>,\n",
       " <span class=\"playlinenum\">90</span>,\n",
       " <br/>,\n",
       " <br/>,\n",
       " <br/>,\n",
       " <br/>,\n",
       " <br/>,\n",
       " <span class=\"playlinenum\">95</span>,\n",
       " <br/>,\n",
       " <br/>]"
      ]
     },
     "execution_count": 132,
     "metadata": {},
     "output_type": "execute_result"
    }
   ],
   "source": [
    "mspeech = scene2.li\n",
    "mspeech.strong.find_next_siblings()"
   ]
  },
  {
   "cell_type": "markdown",
   "metadata": {
    "collapsed": true
   },
   "source": [
    "All done!"
   ]
  }
 ],
 "metadata": {
  "kernelspec": {
   "display_name": "Python 3",
   "language": "python",
   "name": "python3"
  },
  "language_info": {
   "codemirror_mode": {
    "name": "ipython",
    "version": 3
   },
   "file_extension": ".py",
   "mimetype": "text/x-python",
   "name": "python",
   "nbconvert_exporter": "python",
   "pygments_lexer": "ipython3",
   "version": "3.7.1"
  }
 },
 "nbformat": 4,
 "nbformat_minor": 2
}
